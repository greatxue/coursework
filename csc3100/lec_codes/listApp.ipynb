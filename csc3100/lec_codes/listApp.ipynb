{
 "cells": [
  {
   "cell_type": "code",
   "execution_count": null,
   "metadata": {},
   "outputs": [],
   "source": [
    "public Node findMiddlePtr(){\n",
    "    Node slowPtr, fastzPtr;\n",
    "    slowPtr = fastPtr = head;\n",
    "\n",
    "    while (fastPtr != null && fastPtr.next != null && fastPtr.next.next != null) {\n",
    "        fastPtr = fastPtr.next.next;\n",
    "        slowPtr = slowPtr.next;\n",
    "    }\n",
    "    return slowPtr;\n",
    "}"
   ]
  }
 ],
 "metadata": {
  "kernelspec": {
   "display_name": "Java",
   "language": "java",
   "name": "java"
  },
  "language_info": {
   "name": "java"
  }
 },
 "nbformat": 4,
 "nbformat_minor": 2
}

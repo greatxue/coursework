{
 "cells": [
  {
   "cell_type": "code",
   "execution_count": 1,
   "id": "fa8fb970",
   "metadata": {},
   "outputs": [],
   "source": [
    "# Read the .csv file\n",
    "def read_csv(filename):\n",
    "    with open(filename, 'r') as f:\n",
    "        data = f.read().split('\\n')[1:]  # Read from the 2nd line\n",
    "        data = [line.split(',') for line in data if line]\n",
    "        data = [[float(num) for num in line] for line in data]\n",
    "    return list(zip(*data))  # Separate x, y to access each"
   ]
  },
  {
   "cell_type": "markdown",
   "id": "9961c20c",
   "metadata": {},
   "source": [
    "**Compute mean and variance**"
   ]
  },
  {
   "cell_type": "code",
   "execution_count": 2,
   "id": "c175913c",
   "metadata": {},
   "outputs": [],
   "source": [
    "# Calculate sample mean\n",
    "def mean(data):\n",
    "    return sum(data) / len(data)\n",
    "\n",
    "\n",
    "# Calculate sample variance\n",
    "def variance(data):\n",
    "    m = mean(data)\n",
    "    return sum((xi - m) ** 2 for xi in data) / (len(data) - 1)  \n",
    "    # Remind that we use sample variance here\n"
   ]
  },
  {
   "cell_type": "code",
   "execution_count": 3,
   "id": "637f1397",
   "metadata": {},
   "outputs": [],
   "source": [
    "D = read_csv('../D.csv')\n",
    "D_x_mean = mean(D[0])\n",
    "D_x_variance = variance(D[0])\n",
    "D_y_mean = mean(D[1])\n",
    "D_y_variance = variance(D[1])\n",
    "\n",
    "S = read_csv('../S.csv')\n",
    "S_x_mean = mean(S[0])\n",
    "S_x_variance = variance(S[0])\n",
    "S_y_mean = mean(S[1])\n",
    "S_y_variance = variance(S[1])"
   ]
  },
  {
   "cell_type": "markdown",
   "id": "4d04d380",
   "metadata": {},
   "source": []
  }
 ],
 "metadata": {
  "kernelspec": {
   "display_name": "Python 3 (ipykernel)",
   "language": "python",
   "name": "python3"
  },
  "language_info": {
   "codemirror_mode": {
    "name": "ipython",
    "version": 3
   },
   "file_extension": ".py",
   "mimetype": "text/x-python",
   "name": "python",
   "nbconvert_exporter": "python",
   "pygments_lexer": "ipython3",
   "version": "3.11.0"
  }
 },
 "nbformat": 4,
 "nbformat_minor": 5
}
